{
 "cells": [
  {
   "cell_type": "code",
   "execution_count": 1,
   "metadata": {},
   "outputs": [],
   "source": [
    "import os\n",
    "import pandas as pd\n",
    "import numpy as np\n",
    "import matplotlib.pyplot as plt\n",
    "\n",
    "df_character = pd.read_csv(os.getenv('SIMPSONS_CHARACTERS'))\n",
    "df_lines = pd.read_csv(os.getenv('SIMPSONS_SCRIPT_LINES'), low_memory=False)\n",
    "df_episode = pd.read_csv(os.getenv('SIMPSONS_EPISODES'))\n",
    "df_location = pd.read_csv(os.getenv('SIMPSONS_LOCATIONS'))"
   ]
  }
 ],
 "metadata": {
  "kernelspec": {
   "display_name": "Python 3",
   "language": "python",
   "name": "python3"
  },
  "language_info": {
   "codemirror_mode": {
    "name": "ipython",
    "version": 3
   },
   "file_extension": ".py",
   "mimetype": "text/x-python",
   "name": "python",
   "nbconvert_exporter": "python",
   "pygments_lexer": "ipython3",
   "version": "3.11.5"
  }
 },
 "nbformat": 4,
 "nbformat_minor": 2
}
